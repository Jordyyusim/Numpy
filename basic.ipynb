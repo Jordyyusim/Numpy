{
 "cells": [
  {
   "cell_type": "markdown",
   "metadata": {},
   "source": [
    "# __NUMPY__\n",
    "<HR>\n",
    "<HR>"
   ]
  },
  {
   "cell_type": "code",
   "execution_count": 1,
   "metadata": {},
   "outputs": [],
   "source": [
    "import numpy as np"
   ]
  },
  {
   "cell_type": "code",
   "execution_count": null,
   "metadata": {},
   "outputs": [],
   "source": [
    "# x = [2,4,1,6,8,3,12,10]\n",
    "# y = []\n",
    "# for i in x:\n",
    "#     if i % 2==0:\n",
    "#       y.append(i) \n",
    "# print(y) \n",
    "# z = list(filter(lambda i: i%2==0, x))\n",
    "# print(z)\n",
    "\n",
    "# x = np.array(x)\n",
    "# y = x[x%2==0]\n",
    "# print(list(y))"
   ]
  },
  {
   "cell_type": "code",
   "execution_count": null,
   "metadata": {},
   "outputs": [],
   "source": [
    "# a = [1,2,3]\n",
    "# a = np.array(a)\n",
    "# print(a)\n",
    "# print(a + a)\n",
    "# print(a + 2)"
   ]
  },
  {
   "cell_type": "markdown",
   "metadata": {},
   "source": [
    "### _Calling value by its index_\n",
    "#### Separated by \" , \""
   ]
  },
  {
   "cell_type": "code",
   "execution_count": 2,
   "metadata": {},
   "outputs": [
    {
     "name": "stdout",
     "output_type": "stream",
     "text": [
      "[2, 4, 6]\n"
     ]
    }
   ],
   "source": [
    "x = [(1, 2), (3, 4), (5, 6)]\n",
    "# y = []\n",
    "# for i in range(len(x)):\n",
    "#     y.append(x[i][1])\n",
    "# print(y)\n",
    "# z = list(map(lambda i: i[1], x))\n",
    "\n",
    "x = np.array(x)\n",
    "y = x[:,1]\n",
    "print(list(y))"
   ]
  },
  {
   "cell_type": "code",
   "execution_count": null,
   "metadata": {},
   "outputs": [],
   "source": [
    "a = [\n",
    "    [1,3,5,7],\n",
    "    [2,4,6,8],\n",
    "    [3,6,9,12]\n",
    "]\n",
    "b = np.array(a)\n",
    "# print(a[1][2])\n",
    "# print(b[1,2])\n",
    "# print(b[0:3,2])\n",
    "# print(b[:,2:])\n",
    "# print(b[:, [0, 2]])\n",
    "# print(b[:, [0, 3]])\n",
    "# print(b[:, [3,2,1,0]])\n",
    "\n",
    "# b[0][0] = 11\n",
    "# print(b)"
   ]
  },
  {
   "cell_type": "code",
   "execution_count": null,
   "metadata": {},
   "outputs": [],
   "source": [
    "# g = [\n",
    "#     [[1,2],[3,4],[5,6]],\n",
    "#     [[7,8],[9,10],[11,12]],\n",
    "#     [[13,14],[15,16],[17,18]]\n",
    "# ]\n",
    "\n",
    "# h = np.array(g)\n",
    "# print(h[1][2][0])\n",
    "# print(h[1,2,0])\n",
    "# print(h[:,:,1])\n",
    "# print(h[:,:,[1]])\n",
    "# print(h[:,:,[1, 0]])\n",
    "# print(h[:,:,[1, 0, 0, 1]])"
   ]
  },
  {
   "cell_type": "code",
   "execution_count": null,
   "metadata": {},
   "outputs": [],
   "source": [
    "x = [\n",
    "    [1,2,3],\n",
    "    [4,5,6],\n",
    "    [7,8,9]\n",
    "]\n",
    "# y = []\n",
    "# for i in range(len(x)):\n",
    "#     y.append(x[i][::-1])\n",
    "# print(y)\n",
    "\n",
    "# L = list(map(lambda i: [i[2], i[1], i[0]]))\n",
    "\n",
    "x = np.array(x)\n",
    "print(x[:,[2,1,0]])\n",
    "# print(x[:,::-1])"
   ]
  },
  {
   "cell_type": "markdown",
   "metadata": {},
   "source": [
    "#### Numpy array just like list datatype but with more features"
   ]
  },
  {
   "cell_type": "code",
   "execution_count": null,
   "metadata": {},
   "outputs": [],
   "source": [
    "# x = [1,2,3,4,5,6]\n",
    "# y = np.array(x)\n",
    "# print(x)\n",
    "# print(y)\n",
    "# print(y[y%2==0])\n",
    "\n",
    "# z = np.array({1,2,3,4,5,6})\n",
    "# print(z)"
   ]
  },
  {
   "cell_type": "markdown",
   "metadata": {},
   "source": [
    "#### You can input strings in numpy array. You also can change the values just like a list\n",
    "#### If you are changing the values from string to integer, \n",
    "#### the characters of integer will be the same maximum char of string"
   ]
  },
  {
   "cell_type": "code",
   "execution_count": 3,
   "metadata": {},
   "outputs": [
    {
     "name": "stdout",
     "output_type": "stream",
     "text": [
      "['a' 'b' 'c']\n",
      "['d' '1' 'c']\n"
     ]
    }
   ],
   "source": [
    "c = ['a', 'b', 'c']\n",
    "d = np.array(c)\n",
    "print(d)\n",
    "d[0]= 'd'\n",
    "d[1]= 100\n",
    "print(d)\n",
    "\n",
    "# e = ['a', 'b', 'c', 10, 19]\n",
    "# f = np.array(e)\n",
    "# f[0] = 190\n",
    "# print(f)\n",
    "# f[1] = 'Andi'\n",
    "# print(f)"
   ]
  },
  {
   "cell_type": "markdown",
   "metadata": {},
   "source": [
    "### _Numpy Array Info_\n",
    "#### .ndim\n",
    "#### .dtype\n",
    "#### .size \n",
    "#### .itemsize\n",
    "#### .shape"
   ]
  },
  {
   "cell_type": "code",
   "execution_count": null,
   "metadata": {},
   "outputs": [],
   "source": [
    "# x = [1,2,3]\n",
    "# y = [[1,2,3]]\n",
    "# z = [[[1,2,3]]]\n",
    "\n",
    "# x = np.array(x)\n",
    "# y = np.array(y)\n",
    "# z = np.array(z)\n",
    "\n",
    "# print(x.ndim, x.dtype, x.size, x.itemsize, x.shape) # size banyak valuenya # itemsize jumlah bit # shape value di elemen\n",
    "# print(y.ndim)\n",
    "# print(z.ndim)"
   ]
  },
  {
   "cell_type": "markdown",
   "metadata": {},
   "source": [
    "### _Shape & Reshape_"
   ]
  },
  {
   "cell_type": "code",
   "execution_count": null,
   "metadata": {},
   "outputs": [],
   "source": [
    "x = [[1, 2], [3, 4]]\n",
    "x = np.array(x)\n",
    "#size 4 #shape 2,2\n",
    "\n",
    "# a = x.reshape(4,)\n",
    "# print(a)\n",
    "# print(a.shape)\n",
    "\n",
    "# b = x.reshape(4,1)\n",
    "# print(b)\n",
    "# print(b.shape)"
   ]
  },
  {
   "cell_type": "code",
   "execution_count": null,
   "metadata": {},
   "outputs": [],
   "source": [
    "### Menambah bilangan genap saja"
   ]
  },
  {
   "cell_type": "code",
   "execution_count": null,
   "metadata": {},
   "outputs": [],
   "source": [
    "# d = [\n",
    "#     [1,2,3],\n",
    "#     [4,5,6],\n",
    "#     [7,8,9]\n",
    "# ]\n",
    "# dp = np.array(d)\n",
    "# dp[dp%2 != 0] += 10\n",
    "# print(dp)"
   ]
  }
 ],
 "metadata": {
  "kernelspec": {
   "display_name": "Python 3",
   "language": "python",
   "name": "python3"
  },
  "language_info": {
   "codemirror_mode": {
    "name": "ipython",
    "version": 3
   },
   "file_extension": ".py",
   "mimetype": "text/x-python",
   "name": "python",
   "nbconvert_exporter": "python",
   "pygments_lexer": "ipython3",
   "version": "3.8.1"
  }
 },
 "nbformat": 4,
 "nbformat_minor": 4
}
