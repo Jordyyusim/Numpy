{
 "cells": [
  {
   "cell_type": "markdown",
   "metadata": {},
   "source": [
    "# _MEAN MEDIAN MODUS W/O NUMPY_"
   ]
  },
  {
   "cell_type": "code",
   "execution_count": null,
   "metadata": {},
   "outputs": [],
   "source": [
    "# x = [2,3,5,7,1,2,5,7,4,6,9,5,3]"
   ]
  },
  {
   "cell_type": "markdown",
   "metadata": {},
   "source": [
    "### MEAN"
   ]
  },
  {
   "cell_type": "code",
   "execution_count": null,
   "metadata": {},
   "outputs": [],
   "source": [
    "# mean = sum(x)/len(x)"
   ]
  },
  {
   "cell_type": "markdown",
   "metadata": {},
   "source": [
    "### MEDIAN"
   ]
  },
  {
   "cell_type": "code",
   "execution_count": null,
   "metadata": {},
   "outputs": [],
   "source": [
    "# x.sort()\n",
    "# if len(x) % 2 != 0:\n",
    "#     a = len(x)//2\n",
    "#     med = x[a] \n",
    "#     print(med)\n",
    "# else:\n",
    "#     a = len(x)//2\n",
    "#     med = (x[a+1] + x[a]) / 2\n",
    "#     print(med)"
   ]
  },
  {
   "cell_type": "markdown",
   "metadata": {},
   "source": [
    "### MODUS"
   ]
  },
  {
   "cell_type": "code",
   "execution_count": null,
   "metadata": {},
   "outputs": [],
   "source": [
    "# x = [2,3,5,7,1,2,5,7,4,6,9,5,3]\n",
    "# xs = set(x)\n",
    "# c = []\n",
    "# for i in xs:\n",
    "#     count = x.count(i)\n",
    "#     c.append(count)\n",
    "# for i in xs:\n",
    "#     count = x.count(i)\n",
    "#     if count == max(c):\n",
    "#         modus = i\n",
    "# print(modus)"
   ]
  }
 ],
 "metadata": {
  "kernelspec": {
   "display_name": "Python 3",
   "language": "python",
   "name": "python3"
  },
  "language_info": {
   "codemirror_mode": {
    "name": "ipython",
    "version": 3
   },
   "file_extension": ".py",
   "mimetype": "text/x-python",
   "name": "python",
   "nbconvert_exporter": "python",
   "pygments_lexer": "ipython3",
   "version": "3.8.1"
  }
 },
 "nbformat": 4,
 "nbformat_minor": 4
}
