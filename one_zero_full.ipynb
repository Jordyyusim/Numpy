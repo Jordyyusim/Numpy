{
 "cells": [
  {
   "cell_type": "code",
   "execution_count": null,
   "metadata": {},
   "outputs": [],
   "source": []
  },
  {
   "cell_type": "code",
   "execution_count": 1,
   "metadata": {},
   "outputs": [],
   "source": [
    "import numpy as np"
   ]
  },
  {
   "cell_type": "markdown",
   "metadata": {},
   "source": [
    "### _Ones & Zeros_"
   ]
  },
  {
   "cell_type": "code",
   "execution_count": null,
   "metadata": {},
   "outputs": [],
   "source": [
    "# a = np.ones((10,))\n",
    "# b = np.zeros((10))\n",
    "# print(a)\n",
    "# print(b)\n",
    "# c = np.ones((3,3))\n",
    "# d = np.ones((3,4))\n",
    "# print(c)\n",
    "# print(d)\n",
    "\n",
    "# a = a.astype('int32')\n",
    "\n",
    "# bb = np.zeros((1,2), dtype='int')\n",
    "# print(bb)"
   ]
  },
  {
   "cell_type": "code",
   "execution_count": null,
   "metadata": {},
   "outputs": [],
   "source": [
    "# a = [\n",
    "#     [1,2],\n",
    "#     [3,4]\n",
    "# ]\n",
    "# b = np.ones((2,2))\n",
    "# c = np.zeros((2,2))\n",
    "# print(a+b)\n",
    "# print(a+c)"
   ]
  },
  {
   "cell_type": "markdown",
   "metadata": {},
   "source": [
    "### _Full_"
   ]
  },
  {
   "cell_type": "code",
   "execution_count": null,
   "metadata": {},
   "outputs": [],
   "source": [
    "# e = np.full((3,3),2 )\n",
    "# print(e)\n",
    "\n",
    "# f = np.full((3,3), True)\n",
    "# f[1, 1] = 0\n",
    "# print(f)\n",
    "\n",
    "# b = np.full((3,3), True,dtype='int32')\n",
    "# b[1,1] = 0\n",
    "# print(b)\n"
   ]
  },
  {
   "cell_type": "code",
   "execution_count": null,
   "metadata": {},
   "outputs": [],
   "source": [
    "# c = np.ones((3,3), dtype='bool')"
   ]
  },
  {
   "cell_type": "code",
   "execution_count": null,
   "metadata": {},
   "outputs": [],
   "source": []
  }
 ],
 "metadata": {
  "kernelspec": {
   "display_name": "Python 3",
   "language": "python",
   "name": "python3"
  },
  "language_info": {
   "codemirror_mode": {
    "name": "ipython",
    "version": 3
   },
   "file_extension": ".py",
   "mimetype": "text/x-python",
   "name": "python",
   "nbconvert_exporter": "python",
   "pygments_lexer": "ipython3",
   "version": "3.8.1"
  }
 },
 "nbformat": 4,
 "nbformat_minor": 4
}
