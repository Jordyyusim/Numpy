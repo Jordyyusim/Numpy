{
 "cells": [
  {
   "cell_type": "markdown",
   "metadata": {},
   "source": [
    "## _RUBIKS CUBE WITH NUMPY AND WITHOUT NUMPY_"
   ]
  },
  {
   "cell_type": "code",
   "execution_count": null,
   "metadata": {},
   "outputs": [],
   "source": [
    "import numpy as np"
   ]
  },
  {
   "cell_type": "code",
   "execution_count": null,
   "metadata": {},
   "outputs": [],
   "source": [
    "x = [\n",
    "    [1,2,3],\n",
    "    [4,5,6],\n",
    "    [7,8,9]\n",
    "]\n",
    "x_1 = np.array(x)\n",
    "y = []\n",
    "z = []\n",
    "v = []"
   ]
  },
  {
   "cell_type": "markdown",
   "metadata": {},
   "source": [
    "#### 7  4  1\n",
    "#### 8  5  2\n",
    "#### 9  6  3"
   ]
  },
  {
   "cell_type": "code",
   "execution_count": null,
   "metadata": {},
   "outputs": [],
   "source": [
    "# print(np.array([x_1[::-1, 0] , x_1[::-1, 1], x_1[::-1, 2]]))\n",
    "# for i in range(len(x)):\n",
    "#     y.insert(0, x[i][0])\n",
    "#     z.insert(0, x[i][1])\n",
    "#     v.insert(0, x[i][2])\n",
    "print([y, z, v])"
   ]
  },
  {
   "cell_type": "code",
   "execution_count": null,
   "metadata": {},
   "outputs": [],
   "source": [
    "#### 3  6  9\n",
    "#### 2  5  8\n",
    "#### 1  4  7"
   ]
  },
  {
   "cell_type": "code",
   "execution_count": null,
   "metadata": {},
   "outputs": [],
   "source": [
    "# print(np.array([x_1[:, 2], x_1[:, 1], x_1[:, 0]]))\n",
    "# for i in range(len(x)):\n",
    "#     y.append(x[i][2])\n",
    "#     z.append(x[i][1])\n",
    "#     v.append(x[i][0])\n",
    "# print([y, z, v])"
   ]
  },
  {
   "cell_type": "code",
   "execution_count": null,
   "metadata": {},
   "outputs": [],
   "source": [
    "#### 9  8  7\n",
    "#### 6  5  4\n",
    "#### 3  2  1"
   ]
  },
  {
   "cell_type": "code",
   "execution_count": null,
   "metadata": {},
   "outputs": [],
   "source": [
    "# print(np.array([x_1[2, ::-1], x_1[1, ::-1], x_1[0, ::-1]]))\n",
    "# for i in range(len(x)):\n",
    "#     y.insert(0, x[2][i])\n",
    "#     z.insert(0, x[1][i])\n",
    "#     v.insert(0, x[0][i])\n",
    "# print([y, z, v])"
   ]
  },
  {
   "cell_type": "code",
   "execution_count": null,
   "metadata": {},
   "outputs": [],
   "source": [
    "#### 1  4  7\n",
    "#### 2  5  8\n",
    "#### 3  6  9"
   ]
  },
  {
   "cell_type": "code",
   "execution_count": null,
   "metadata": {},
   "outputs": [],
   "source": [
    "# print(np.array([x_1[:, 0], x_1[:, 1], x_1[:, 2]]))\n",
    "# for i in range(len(x)):\n",
    "#     y.append(x[i][0])\n",
    "#     z.append(x[i][1])\n",
    "#     v.append(x[i][2])\n",
    "# print([y, z, v])"
   ]
  },
  {
   "cell_type": "code",
   "execution_count": null,
   "metadata": {},
   "outputs": [],
   "source": [
    "#### 9  6  3\n",
    "#### 8  5  2\n",
    "#### 7  4  1"
   ]
  },
  {
   "cell_type": "code",
   "execution_count": null,
   "metadata": {},
   "outputs": [],
   "source": [
    "# print(np.array([x_1[::-1, 2], x_1[::-1, 1], x_1[::-1, 0]]))\n",
    "# for i in range(len(x)):\n",
    "#     y.insert(0, x[i][2])\n",
    "#     z.insert(0, x[i][1])\n",
    "#     v.insert(0, x[i][0])\n",
    "# print([y, z, v])"
   ]
  }
 ],
 "metadata": {
  "kernelspec": {
   "display_name": "Python 3",
   "language": "python",
   "name": "python3"
  },
  "language_info": {
   "codemirror_mode": {
    "name": "ipython",
    "version": 3
   },
   "file_extension": ".py",
   "mimetype": "text/x-python",
   "name": "python",
   "nbconvert_exporter": "python",
   "pygments_lexer": "ipython3",
   "version": "3.8.1"
  }
 },
 "nbformat": 4,
 "nbformat_minor": 4
}
