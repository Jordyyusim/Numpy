{
 "cells": [
  {
   "cell_type": "markdown",
   "metadata": {},
   "source": []
  },
  {
   "cell_type": "markdown",
   "metadata": {},
   "source": [
    "### __Random__"
   ]
  },
  {
   "cell_type": "code",
   "execution_count": null,
   "metadata": {},
   "outputs": [],
   "source": [
    "#### _rand_ = \n",
    "#### _randint_ = "
   ]
  },
  {
   "cell_type": "code",
   "execution_count": null,
   "metadata": {},
   "outputs": [],
   "source": [
    "# s = np.random.rand(100)\n",
    "# print(s)\n",
    "# ss = np.random.rand(3, 5)\n",
    "# print(ss)\n",
    "# sss = np.random.randint(10)\n",
    "# print(sss)\n",
    "# sa = np.random.randint(100, size=(3, 3))\n",
    "# print(sa)"
   ]
  },
  {
   "cell_type": "markdown",
   "metadata": {},
   "source": [
    "### __Linspace__"
   ]
  },
  {
   "cell_type": "code",
   "execution_count": null,
   "metadata": {},
   "outputs": [],
   "source": [
    "# a = np.linspace(1, 10, 10)\n",
    "# b = np.linspace(0, 9, 100)\n",
    "# print(a)\n",
    "# print(b)"
   ]
  },
  {
   "cell_type": "markdown",
   "metadata": {},
   "source": [
    "### __Sorting__"
   ]
  },
  {
   "cell_type": "code",
   "execution_count": null,
   "metadata": {},
   "outputs": [],
   "source": [
    "# xx = [\n",
    "#     [1,2,3],\n",
    "#     [2,7,9],\n",
    "#     [4,6,10]\n",
    "# ]\n",
    "# xx = np.array(xx)\n",
    "# xx = np.sort(xx)\n",
    "# xx = np.sort(xx, axis=0) #axis 0 sort by column\n",
    "# print(xx)\n",
    "# xx = np.sort(xx, axis=1) #axis 1 sort by row, defaultnya\n",
    "# print(xx)\n",
    "# xx = np.sort(xx, axis=None) #jadi hanya 1 dimensi array\n",
    "# print(xx)"
   ]
  },
  {
   "cell_type": "markdown",
   "metadata": {},
   "source": [
    "### _Reshape_"
   ]
  },
  {
   "cell_type": "code",
   "execution_count": null,
   "metadata": {},
   "outputs": [],
   "source": [
    "# xx = [\n",
    "#     [1,2,3],\n",
    "#     [2,7,9],\n",
    "#     [4,6,10]\n",
    "# ]\n",
    "# xx = np.array(xx)\n",
    "# y = xx.reshape(1,3,-1)\n",
    "# y = xx.reshape(1,-1)\n",
    "# print(y)"
   ]
  },
  {
   "cell_type": "code",
   "execution_count": null,
   "metadata": {},
   "outputs": [],
   "source": [
    "# t = [\n",
    "#     [1,2,3,7],\n",
    "#     [2,7,9,3],\n",
    "#     [4,6,10,1]\n",
    "# ]\n",
    "# t = np.array(t)\n",
    "# tt = t.reshape(4, -1)\n",
    "# print(tt)\n",
    "\n",
    "# r = np.arange(9).reshape(3,3)\n",
    "# print(r)"
   ]
  },
  {
   "cell_type": "markdown",
   "metadata": {},
   "source": [
    "### _Concatenate / Concat_"
   ]
  },
  {
   "cell_type": "code",
   "execution_count": null,
   "metadata": {},
   "outputs": [],
   "source": [
    "# x = np.array([1,2,3])\n",
    "# y = np.array([4,5,6])\n",
    "# z = np.concatenate([x,y])\n",
    "# print(z)\n",
    "\n",
    "# x = np.array([1,2,3]).reshape(3,1)\n",
    "# y = np.array([4,5,6]).reshape(3,1)\n",
    "# print(x)\n",
    "# z = np.concatenate([x,y], axis=0) # shape boleh beda kalo axis = 0\n",
    "# print(z)\n",
    "# z = np.concatenate([x,y], axis=1) # shape harus sama\n",
    "# print(z)\n",
    "# a = np.vstack([x, y])\n",
    "# print(a)\n",
    "# b = np.hstack([x, y])\n",
    "# print(b)"
   ]
  },
  {
   "cell_type": "code",
   "execution_count": null,
   "metadata": {},
   "outputs": [],
   "source": []
  },
  {
   "cell_type": "code",
   "execution_count": null,
   "metadata": {},
   "outputs": [],
   "source": []
  },
  {
   "cell_type": "code",
   "execution_count": null,
   "metadata": {},
   "outputs": [],
   "source": [
    "x = [1,3,4,5,6]\n",
    "# x.index(max(x))\n",
    "# sum(x)\n",
    "# sum(x) / len(x)\n",
    "\n",
    "y = np.array(x)\n",
    "# print(y.max())\n",
    "# print(np.argmax(y))\n",
    "# print(np.argmin(y))\n",
    "# print(y.sum())\n",
    "# print(np.mean(y))\n",
    "# print(np.median(y))"
   ]
  },
  {
   "cell_type": "markdown",
   "metadata": {},
   "source": []
  },
  {
   "cell_type": "code",
   "execution_count": null,
   "metadata": {},
   "outputs": [],
   "source": [
    "a = [1,4,9,16]\n",
    "a = np.array(a)\n",
    "print(np.sqrt(a)) #square root\n",
    "print(np.cbrt(27)) #cubic root\n",
    "print(a ** (1/2)) #square root"
   ]
  },
  {
   "cell_type": "code",
   "execution_count": null,
   "metadata": {},
   "outputs": [],
   "source": [
    "#e = bilangan euler"
   ]
  },
  {
   "cell_type": "code",
   "execution_count": null,
   "metadata": {},
   "outputs": [],
   "source": [
    "# print(2e2)\n",
    "# print(5e-3)\n",
    "\n",
    "# print(np.exp(1))"
   ]
  },
  {
   "cell_type": "code",
   "execution_count": null,
   "metadata": {},
   "outputs": [],
   "source": [
    "#logaritma"
   ]
  },
  {
   "cell_type": "code",
   "execution_count": null,
   "metadata": {},
   "outputs": [],
   "source": [
    "# e log 2.71 => e pangkat brp supaya hasilnya 2.71 == ln 2.71\n",
    "# 10 log 1000 => 10 pangkat brp supaya hasilnya 1000\n",
    "\n",
    "# print(np.log(np.exp(30)))\n",
    "# print(np.log10(1000))\n",
    "# print(np.exp(3))\n",
    "# print(np.exp(20))\n",
    "# print(2.718281828459045 ** 3)"
   ]
  }
 ],
 "metadata": {
  "kernelspec": {
   "display_name": "Python 3",
   "language": "python",
   "name": "python3"
  },
  "language_info": {
   "codemirror_mode": {
    "name": "ipython",
    "version": 3
   },
   "file_extension": ".py",
   "mimetype": "text/x-python",
   "name": "python",
   "nbconvert_exporter": "python",
   "pygments_lexer": "ipython3",
   "version": "3.8.1"
  }
 },
 "nbformat": 4,
 "nbformat_minor": 4
}
